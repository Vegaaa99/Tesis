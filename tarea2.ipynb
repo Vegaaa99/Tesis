{
 "cells": [
  {
   "cell_type": "code",
   "execution_count": 47,
   "metadata": {},
   "outputs": [],
   "source": [
    "import numpy as np\n",
    "import pandas as pd\n",
    "import matplotlib.pyplot as plt\n",
    "from scipy.interpolate import interp1d\n",
    "import scipy.integrate as integrate\n",
    "from sklearn.preprocessing import PolynomialFeatures\n",
    "from sklearn.linear_model import LinearRegression\n",
    "from astropy import constants as const\n",
    "from astropy import units as u"
   ]
  },
  {
   "cell_type": "code",
   "execution_count": 48,
   "metadata": {},
   "outputs": [],
   "source": [
    "# Definiendo constantes\n",
    "G = const.G.to(u.cm**3/(u.g*u.s**2)) # Constante Gravitacional en cm^3/(g*s^2)\n",
    "Msol = const.M_sun.to(u.g) # Masa solar en gramos\n",
    "R_sol = const.R_sun.to(u.cm)  # Radio del sol en centímetros"
   ]
  },
  {
   "cell_type": "markdown",
   "metadata": {},
   "source": [
    "# 1. Definir q y $\\Omega_*$"
   ]
  },
  {
   "cell_type": "code",
   "execution_count": 49,
   "metadata": {},
   "outputs": [
    {
     "data": {
      "text/html": [
       "<div>\n",
       "<style scoped>\n",
       "    .dataframe tbody tr th:only-of-type {\n",
       "        vertical-align: middle;\n",
       "    }\n",
       "\n",
       "    .dataframe tbody tr th {\n",
       "        vertical-align: top;\n",
       "    }\n",
       "\n",
       "    .dataframe thead th {\n",
       "        text-align: right;\n",
       "    }\n",
       "</style>\n",
       "<table border=\"1\" class=\"dataframe\">\n",
       "  <thead>\n",
       "    <tr style=\"text-align: right;\">\n",
       "      <th></th>\n",
       "      <th>r/R</th>\n",
       "      <th>c_cm/sec</th>\n",
       "      <th>rho_g/cm^3</th>\n",
       "      <th>p_dyn/cm^2</th>\n",
       "      <th>Gamma_1</th>\n",
       "      <th>T_k</th>\n",
       "    </tr>\n",
       "  </thead>\n",
       "  <tbody>\n",
       "    <tr>\n",
       "      <th>0</th>\n",
       "      <td>1.000713</td>\n",
       "      <td>686438.80</td>\n",
       "      <td>3.292483e-09</td>\n",
       "      <td>9.455764e+02</td>\n",
       "      <td>1.640705</td>\n",
       "      <td>4.348196e+03</td>\n",
       "    </tr>\n",
       "    <tr>\n",
       "      <th>1</th>\n",
       "      <td>1.000705</td>\n",
       "      <td>686573.05</td>\n",
       "      <td>3.469053e-09</td>\n",
       "      <td>9.962773e+02</td>\n",
       "      <td>1.641361</td>\n",
       "      <td>4.348491e+03</td>\n",
       "    </tr>\n",
       "    <tr>\n",
       "      <th>2</th>\n",
       "      <td>1.000697</td>\n",
       "      <td>686706.53</td>\n",
       "      <td>3.656545e-09</td>\n",
       "      <td>1.050125e+03</td>\n",
       "      <td>1.641997</td>\n",
       "      <td>4.348819e+03</td>\n",
       "    </tr>\n",
       "    <tr>\n",
       "      <th>3</th>\n",
       "      <td>1.000689</td>\n",
       "      <td>686840.63</td>\n",
       "      <td>3.855586e-09</td>\n",
       "      <td>1.107302e+03</td>\n",
       "      <td>1.642618</td>\n",
       "      <td>4.349183e+03</td>\n",
       "    </tr>\n",
       "    <tr>\n",
       "      <th>4</th>\n",
       "      <td>1.000681</td>\n",
       "      <td>686977.49</td>\n",
       "      <td>4.066838e-09</td>\n",
       "      <td>1.168000e+03</td>\n",
       "      <td>1.643233</td>\n",
       "      <td>4.349587e+03</td>\n",
       "    </tr>\n",
       "    <tr>\n",
       "      <th>...</th>\n",
       "      <td>...</td>\n",
       "      <td>...</td>\n",
       "      <td>...</td>\n",
       "      <td>...</td>\n",
       "      <td>...</td>\n",
       "      <td>...</td>\n",
       "    </tr>\n",
       "    <tr>\n",
       "      <th>2477</th>\n",
       "      <td>0.001448</td>\n",
       "      <td>50466295.00</td>\n",
       "      <td>1.538629e+02</td>\n",
       "      <td>2.348911e+17</td>\n",
       "      <td>1.668285</td>\n",
       "      <td>1.566774e+07</td>\n",
       "    </tr>\n",
       "    <tr>\n",
       "      <th>2478</th>\n",
       "      <td>0.001429</td>\n",
       "      <td>50466263.00</td>\n",
       "      <td>1.538637e+02</td>\n",
       "      <td>2.348920e+17</td>\n",
       "      <td>1.668284</td>\n",
       "      <td>1.566776e+07</td>\n",
       "    </tr>\n",
       "    <tr>\n",
       "      <th>2479</th>\n",
       "      <td>0.001410</td>\n",
       "      <td>50466228.00</td>\n",
       "      <td>1.538645e+02</td>\n",
       "      <td>2.348929e+17</td>\n",
       "      <td>1.668285</td>\n",
       "      <td>1.566778e+07</td>\n",
       "    </tr>\n",
       "    <tr>\n",
       "      <th>2480</th>\n",
       "      <td>0.001391</td>\n",
       "      <td>50466228.00</td>\n",
       "      <td>1.538650e+02</td>\n",
       "      <td>2.348937e+17</td>\n",
       "      <td>1.668284</td>\n",
       "      <td>1.566779e+07</td>\n",
       "    </tr>\n",
       "    <tr>\n",
       "      <th>2481</th>\n",
       "      <td>0.000000</td>\n",
       "      <td>50465569.00</td>\n",
       "      <td>1.538894e+02</td>\n",
       "      <td>2.349248e+17</td>\n",
       "      <td>1.668285</td>\n",
       "      <td>1.566847e+07</td>\n",
       "    </tr>\n",
       "  </tbody>\n",
       "</table>\n",
       "<p>2482 rows × 6 columns</p>\n",
       "</div>"
      ],
      "text/plain": [
       "           r/R     c_cm/sec    rho_g/cm^3    p_dyn/cm^2   Gamma_1  \\\n",
       "0     1.000713    686438.80  3.292483e-09  9.455764e+02  1.640705   \n",
       "1     1.000705    686573.05  3.469053e-09  9.962773e+02  1.641361   \n",
       "2     1.000697    686706.53  3.656545e-09  1.050125e+03  1.641997   \n",
       "3     1.000689    686840.63  3.855586e-09  1.107302e+03  1.642618   \n",
       "4     1.000681    686977.49  4.066838e-09  1.168000e+03  1.643233   \n",
       "...        ...          ...           ...           ...       ...   \n",
       "2477  0.001448  50466295.00  1.538629e+02  2.348911e+17  1.668285   \n",
       "2478  0.001429  50466263.00  1.538637e+02  2.348920e+17  1.668284   \n",
       "2479  0.001410  50466228.00  1.538645e+02  2.348929e+17  1.668285   \n",
       "2480  0.001391  50466228.00  1.538650e+02  2.348937e+17  1.668284   \n",
       "2481  0.000000  50465569.00  1.538894e+02  2.349248e+17  1.668285   \n",
       "\n",
       "               T_k  \n",
       "0     4.348196e+03  \n",
       "1     4.348491e+03  \n",
       "2     4.348819e+03  \n",
       "3     4.349183e+03  \n",
       "4     4.349587e+03  \n",
       "...            ...  \n",
       "2477  1.566774e+07  \n",
       "2478  1.566776e+07  \n",
       "2479  1.566778e+07  \n",
       "2480  1.566779e+07  \n",
       "2481  1.566847e+07  \n",
       "\n",
       "[2482 rows x 6 columns]"
      ]
     },
     "execution_count": 49,
     "metadata": {},
     "output_type": "execute_result"
    }
   ],
   "source": [
    "# Read the CSV file with space as the delimiter\n",
    "data = pd.read_csv('solar-model_Christensen-Dalsgaard_simple.txt', delim_whitespace=True,)\n",
    "data"
   ]
  },
  {
   "cell_type": "code",
   "execution_count": 50,
   "metadata": {},
   "outputs": [
    {
     "data": {
      "text/html": [
       "<div>\n",
       "<style scoped>\n",
       "    .dataframe tbody tr th:only-of-type {\n",
       "        vertical-align: middle;\n",
       "    }\n",
       "\n",
       "    .dataframe tbody tr th {\n",
       "        vertical-align: top;\n",
       "    }\n",
       "\n",
       "    .dataframe thead th {\n",
       "        text-align: right;\n",
       "    }\n",
       "</style>\n",
       "<table border=\"1\" class=\"dataframe\">\n",
       "  <thead>\n",
       "    <tr style=\"text-align: right;\">\n",
       "      <th></th>\n",
       "      <th>r/R</th>\n",
       "      <th>c_cm/sec</th>\n",
       "      <th>rho_g/cm^3</th>\n",
       "      <th>p_dyn/cm^2</th>\n",
       "      <th>Gamma_1</th>\n",
       "      <th>T_k</th>\n",
       "    </tr>\n",
       "  </thead>\n",
       "  <tbody>\n",
       "    <tr>\n",
       "      <th>0</th>\n",
       "      <td>0.000000</td>\n",
       "      <td>50465569.00</td>\n",
       "      <td>1.538894e+02</td>\n",
       "      <td>2.349248e+17</td>\n",
       "      <td>1.668285</td>\n",
       "      <td>1.566847e+07</td>\n",
       "    </tr>\n",
       "    <tr>\n",
       "      <th>1</th>\n",
       "      <td>0.001391</td>\n",
       "      <td>50466228.00</td>\n",
       "      <td>1.538650e+02</td>\n",
       "      <td>2.348937e+17</td>\n",
       "      <td>1.668284</td>\n",
       "      <td>1.566779e+07</td>\n",
       "    </tr>\n",
       "    <tr>\n",
       "      <th>2</th>\n",
       "      <td>0.001410</td>\n",
       "      <td>50466228.00</td>\n",
       "      <td>1.538645e+02</td>\n",
       "      <td>2.348929e+17</td>\n",
       "      <td>1.668285</td>\n",
       "      <td>1.566778e+07</td>\n",
       "    </tr>\n",
       "    <tr>\n",
       "      <th>3</th>\n",
       "      <td>0.001429</td>\n",
       "      <td>50466263.00</td>\n",
       "      <td>1.538637e+02</td>\n",
       "      <td>2.348920e+17</td>\n",
       "      <td>1.668284</td>\n",
       "      <td>1.566776e+07</td>\n",
       "    </tr>\n",
       "    <tr>\n",
       "      <th>4</th>\n",
       "      <td>0.001448</td>\n",
       "      <td>50466295.00</td>\n",
       "      <td>1.538629e+02</td>\n",
       "      <td>2.348911e+17</td>\n",
       "      <td>1.668285</td>\n",
       "      <td>1.566774e+07</td>\n",
       "    </tr>\n",
       "    <tr>\n",
       "      <th>...</th>\n",
       "      <td>...</td>\n",
       "      <td>...</td>\n",
       "      <td>...</td>\n",
       "      <td>...</td>\n",
       "      <td>...</td>\n",
       "      <td>...</td>\n",
       "    </tr>\n",
       "    <tr>\n",
       "      <th>2477</th>\n",
       "      <td>1.000681</td>\n",
       "      <td>686977.49</td>\n",
       "      <td>4.066838e-09</td>\n",
       "      <td>1.168000e+03</td>\n",
       "      <td>1.643233</td>\n",
       "      <td>4.349587e+03</td>\n",
       "    </tr>\n",
       "    <tr>\n",
       "      <th>2478</th>\n",
       "      <td>1.000689</td>\n",
       "      <td>686840.63</td>\n",
       "      <td>3.855586e-09</td>\n",
       "      <td>1.107302e+03</td>\n",
       "      <td>1.642618</td>\n",
       "      <td>4.349183e+03</td>\n",
       "    </tr>\n",
       "    <tr>\n",
       "      <th>2479</th>\n",
       "      <td>1.000697</td>\n",
       "      <td>686706.53</td>\n",
       "      <td>3.656545e-09</td>\n",
       "      <td>1.050125e+03</td>\n",
       "      <td>1.641997</td>\n",
       "      <td>4.348819e+03</td>\n",
       "    </tr>\n",
       "    <tr>\n",
       "      <th>2480</th>\n",
       "      <td>1.000705</td>\n",
       "      <td>686573.05</td>\n",
       "      <td>3.469053e-09</td>\n",
       "      <td>9.962773e+02</td>\n",
       "      <td>1.641361</td>\n",
       "      <td>4.348491e+03</td>\n",
       "    </tr>\n",
       "    <tr>\n",
       "      <th>2481</th>\n",
       "      <td>1.000713</td>\n",
       "      <td>686438.80</td>\n",
       "      <td>3.292483e-09</td>\n",
       "      <td>9.455764e+02</td>\n",
       "      <td>1.640705</td>\n",
       "      <td>4.348196e+03</td>\n",
       "    </tr>\n",
       "  </tbody>\n",
       "</table>\n",
       "<p>2482 rows × 6 columns</p>\n",
       "</div>"
      ],
      "text/plain": [
       "           r/R     c_cm/sec    rho_g/cm^3    p_dyn/cm^2   Gamma_1  \\\n",
       "0     0.000000  50465569.00  1.538894e+02  2.349248e+17  1.668285   \n",
       "1     0.001391  50466228.00  1.538650e+02  2.348937e+17  1.668284   \n",
       "2     0.001410  50466228.00  1.538645e+02  2.348929e+17  1.668285   \n",
       "3     0.001429  50466263.00  1.538637e+02  2.348920e+17  1.668284   \n",
       "4     0.001448  50466295.00  1.538629e+02  2.348911e+17  1.668285   \n",
       "...        ...          ...           ...           ...       ...   \n",
       "2477  1.000681    686977.49  4.066838e-09  1.168000e+03  1.643233   \n",
       "2478  1.000689    686840.63  3.855586e-09  1.107302e+03  1.642618   \n",
       "2479  1.000697    686706.53  3.656545e-09  1.050125e+03  1.641997   \n",
       "2480  1.000705    686573.05  3.469053e-09  9.962773e+02  1.641361   \n",
       "2481  1.000713    686438.80  3.292483e-09  9.455764e+02  1.640705   \n",
       "\n",
       "               T_k  \n",
       "0     1.566847e+07  \n",
       "1     1.566779e+07  \n",
       "2     1.566778e+07  \n",
       "3     1.566776e+07  \n",
       "4     1.566774e+07  \n",
       "...            ...  \n",
       "2477  4.349587e+03  \n",
       "2478  4.349183e+03  \n",
       "2479  4.348819e+03  \n",
       "2480  4.348491e+03  \n",
       "2481  4.348196e+03  \n",
       "\n",
       "[2482 rows x 6 columns]"
      ]
     },
     "execution_count": 50,
     "metadata": {},
     "output_type": "execute_result"
    }
   ],
   "source": [
    "data = data.sort_values(by='r/R').reset_index(drop=True)\n",
    "data"
   ]
  },
  {
   "cell_type": "markdown",
   "metadata": {},
   "source": [
    "### Despejando r\n"
   ]
  },
  {
   "cell_type": "code",
   "execution_count": 51,
   "metadata": {},
   "outputs": [
    {
     "data": {
      "text/plain": [
       "0       0.000000e+00\n",
       "1       9.677883e+07\n",
       "2       9.807979e+07\n",
       "3       9.940162e+07\n",
       "4       1.007374e+08\n",
       "            ...     \n",
       "2477    6.961736e+10\n",
       "2478    6.961792e+10\n",
       "2479    6.961848e+10\n",
       "2480    6.961903e+10\n",
       "2481    6.961958e+10\n",
       "Name: r/R, Length: 2482, dtype: float64"
      ]
     },
     "metadata": {},
     "output_type": "display_data"
    }
   ],
   "source": [
    "r=data[\"r/R\"]*R_sol\n",
    "display(r)\n"
   ]
  },
  {
   "cell_type": "code",
   "execution_count": 52,
   "metadata": {},
   "outputs": [
    {
     "name": "stdout",
     "output_type": "stream",
     "text": [
      "[1.5388936e+02 1.5386501e+02 1.5386447e+02 ... 3.6565446e-09 3.4690527e-09\n",
      " 3.2924832e-09]\n"
     ]
    }
   ],
   "source": [
    "rho=data[\"rho_g/cm^3\"].values\n",
    "print(rho)"
   ]
  },
  {
   "cell_type": "markdown",
   "metadata": {},
   "source": [
    " ### A continuación calculamos la integral de la masa utilizando el método del trapecio \n",
    " $M(r)=4\\pi \\int_0^{r} \\rho(r')r'^{2} dr'$"
   ]
  },
  {
   "cell_type": "code",
   "execution_count": 53,
   "metadata": {},
   "outputs": [],
   "source": [
    "def calculate_mass_within_radius(r, rho):\n",
    "    integral = integrate.cumtrapz(rho*r**2, r, initial=0)\n",
    "    M = (4*np.pi*integral)\n",
    "    return M"
   ]
  },
  {
   "cell_type": "code",
   "execution_count": 54,
   "metadata": {},
   "outputs": [
    {
     "name": "stdout",
     "output_type": "stream",
     "text": [
      "[0.00000000e+00 8.76316118e+26 9.00194844e+26 ... 1.98652582e+33\n",
      " 1.98652582e+33 1.98652582e+33]\n"
     ]
    }
   ],
   "source": [
    "M_r = calculate_mass_within_radius(r, rho)\n",
    "print(M_r)\n",
    "\n"
   ]
  },
  {
   "cell_type": "markdown",
   "metadata": {},
   "source": [
    "### Luego con el valor hallado en M , hallamos la integral de la energía potencial del sistema, para la cual también se utilizó el método del trapecio \n",
    "$\\Omega=4 \\cdot \\pi\\cdot G \\int_{0}^{R} M(r)\\rho(r)r dr$\n"
   ]
  },
  {
   "cell_type": "code",
   "execution_count": 55,
   "metadata": {},
   "outputs": [],
   "source": [
    "def Energy(M, rho, r):\n",
    "    integral = integrate.cumtrapz(M*rho*r, r) *(u.g**2 / u.cm)    # Using Simpson's rule for total integral\n",
    "    Omega = (-4*np.pi*G*integral ).to(u.erg)\n",
    "    return Omega"
   ]
  },
  {
   "cell_type": "code",
   "execution_count": 56,
   "metadata": {},
   "outputs": [
    {
     "name": "stdout",
     "output_type": "stream",
     "text": [
      "-6.110233530610976e+48 erg\n"
     ]
    }
   ],
   "source": [
    "# Calculate the gravitational potential at radius R_sol\n",
    "x = np.linspace(0, R_sol, num=2402)\n",
    "Omega = Energy(M_r,rho,r)\n",
    "print(Omega[-1])"
   ]
  },
  {
   "cell_type": "markdown",
   "metadata": {},
   "source": [
    "### Finalmente  hallamos el valor de q de la siguiente manera \n",
    "$q=-\\frac{\\Omega_\\odot R_\\odot}{GM_\\odot^{2}}$\n"
   ]
  },
  {
   "cell_type": "code",
   "execution_count": 69,
   "metadata": {},
   "outputs": [
    {
     "data": {
      "text/latex": [
       "$3.7931109 \\times 10^{48} \\; \\mathrm{erg}$"
      ],
      "text/plain": [
       "<Quantity 3.7931109e+48 erg>"
      ]
     },
     "execution_count": 69,
     "metadata": {},
     "output_type": "execute_result"
    }
   ],
   "source": [
    "GMS2 =  (G * Msol**2)/R_sol\n",
    "GMS2 = GMS2.to(u.erg)\n",
    "GMS2"
   ]
  },
  {
   "cell_type": "code",
   "execution_count": 70,
   "metadata": {},
   "outputs": [
    {
     "name": "stdout",
     "output_type": "stream",
     "text": [
      "1.6108765822181692\n"
     ]
    }
   ],
   "source": [
    "q= -Omega[-1] / GMS2\n",
    "\n",
    "print(q)"
   ]
  },
  {
   "cell_type": "markdown",
   "metadata": {},
   "source": [
    "### 2 ) Hacer un gráfico de $\\Gamma_1$\n"
   ]
  },
  {
   "cell_type": "code",
   "execution_count": 58,
   "metadata": {},
   "outputs": [
    {
     "data": {
      "text/plain": [
       "0       1.668285\n",
       "1       1.668284\n",
       "2       1.668285\n",
       "3       1.668284\n",
       "4       1.668285\n",
       "          ...   \n",
       "2477    1.643233\n",
       "2478    1.642618\n",
       "2479    1.641997\n",
       "2480    1.641361\n",
       "2481    1.640705\n",
       "Name: Gamma_1, Length: 2482, dtype: float64"
      ]
     },
     "metadata": {},
     "output_type": "display_data"
    }
   ],
   "source": [
    "Gamma_1 = data[\"Gamma_1\"]\n",
    "display(Gamma_1)"
   ]
  },
  {
   "cell_type": "code",
   "execution_count": 79,
   "metadata": {},
   "outputs": [
    {
     "data": {
      "image/png": "[encoded data removed]",
      "text/plain": [
       "<Figure size 640x480 with 1 Axes>"
      ]
     },
     "metadata": {},
     "output_type": "display_data"
    }
   ],
   "source": [
    "plt.plot(data[\"r/R\"],Gamma_1, '-',c='blue',label= r'$\\Gamma_1$' )\n",
    "plt.xlabel(r'$r$[cm]' )\n",
    "plt.ylabel(r'$\\Gamma_1$')\n",
    "plt.title(r'$\\Gamma_1 $ en función del radio')\n",
    "plt.legend()\n",
    "plt.grid(True)\n",
    "plt.show()"
   ]
  },
  {
   "cell_type": "markdown",
   "metadata": {},
   "source": [
    "### Como se observa en la gráfica el valor de $\\Gamma_1$ se mantiene estabel, sin embargo par ciertos radios este valor disminuye y luego vuelve a aumentar a un valor similar al inicial. Esto supone que puede haber en el estado de ionizacion de en el sol "
   ]
  },
  {
   "cell_type": "code",
   "execution_count": 116,
   "metadata": {},
   "outputs": [
    {
     "data": {
      "image/png": "[encoded data removed]",
      "text/plain": [
       "<Figure size 640x480 with 1 Axes>"
      ]
     },
     "metadata": {},
     "output_type": "display_data"
    }
   ],
   "source": [
    "plt.plot(data[\"r/R\"][1770:2380],Gamma_1[1770:2380], '-',c='blue',label= r'$\\Gamma_1$' )\n",
    "plt.xlabel(r'r/R' )\n",
    "plt.ylabel(r'$\\Gamma_1$')\n",
    "plt.title(r' región de variación de $\\Gamma_1 $ ')\n",
    "plt.legend()\n",
    "plt.grid(True)\n",
    "plt.show()"
   ]
  },
  {
   "cell_type": "markdown",
   "metadata": {},
   "source": [
    "### 3) Graficar $T_k$ y $\\rho(r)$"
   ]
  },
  {
   "cell_type": "code",
   "execution_count": 112,
   "metadata": {},
   "outputs": [
    {
     "data": {
      "image/png": "[encoded data removed]",
      "text/plain": [
       "<Figure size 640x480 with 1 Axes>"
      ]
     },
     "metadata": {},
     "output_type": "display_data"
    }
   ],
   "source": [
    "T_k = data[\"T_k\"]\n",
    "plt.plot(data[\"r/R\"], T_k, '-',c='orange',label= r'$T_k$' )\n",
    "plt.xlabel(r'$r/R$' )\n",
    "plt.ylabel(r'$T_k$')\n",
    "#plt.yscale(\"log\")\n",
    "plt.title(r'$T_k $ en función de la fracción del radio')\n",
    "plt.legend()\n",
    "plt.grid(True)\n",
    "plt.show()"
   ]
  },
  {
   "cell_type": "code",
   "execution_count": 117,
   "metadata": {},
   "outputs": [
    {
     "data": {
      "image/png": "[encoded data removed]",
      "text/plain": [
       "<Figure size 640x480 with 1 Axes>"
      ]
     },
     "metadata": {},
     "output_type": "display_data"
    }
   ],
   "source": [
    "plt.plot(data[\"r/R\"],rho, '--',c='green',label= r'$\\rho$' )\n",
    "plt.xlabel(r'$r/R$' )\n",
    "plt.ylabel(r'$\\rho$')\n",
    "#plt.yscale(\"log\")\n",
    "plt.title(r'$\\rho/\\rho_c $ en función de la fracción del radio ')\n",
    "plt.legend()\n",
    "plt.grid(True)\n",
    "plt.show()"
   ]
  },
  {
   "cell_type": "markdown",
   "metadata": {},
   "source": [
    "### En ambos casos el valor de la temperatura disminuye a medida de que el radio vaya aumentando y tiene su máximo en el centro de la estrella que es lo que se esperaba."
   ]
  }
 ],
 "metadata": {
  "kernelspec": {
   "display_name": "Python 3",
   "language": "python",
   "name": "python3"
  },
  "language_info": {
   "codemirror_mode": {
    "name": "ipython",
    "version": 3
   },
   "file_extension": ".py",
   "mimetype": "text/x-python",
   "name": "python",
   "nbconvert_exporter": "python",
   "pygments_lexer": "ipython3",
   "version": "3.10.9"
  }
 },
 "nbformat": 4,
 "nbformat_minor": 2
}
