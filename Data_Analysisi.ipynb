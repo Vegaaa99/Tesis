{
 "cells": [
  {
   "cell_type": "markdown",
   "id": "c6b29ecc",
   "metadata": {},
   "source": [
    "## DETERMINING HABITABLE ZONES ##"
   ]
  },
  {
   "cell_type": "code",
   "execution_count": null,
   "id": "87a2d730",
   "metadata": {},
   "outputs": [],
   "source": [
    "import numpy as np\n",
    "import pandas as pd\n",
    "import matplotlib.pyplot as plt\n",
    "from scipy.interpolate import interp1d\n",
    "import scipy.integrate as integrate\n",
    "from sklearn.preprocessing import PolynomialFeatures\n",
    "from sklearn.linear_model import LinearRegression\n",
    "from astropy import constants as const\n",
    "from astropy import units as u"
   ]
  },
  {
   "cell_type": "markdown",
   "id": "1c43461e",
   "metadata": {},
   "source": [
    "# DEFYNING CONSTANTS"
   ]
  },
  {
   "cell_type": "code",
   "execution_count": null,
   "id": "ddd49caf",
   "metadata": {},
   "outputs": [],
   "source": [
    "# Definiendo constantes\n",
    "G = const.G.to(u.cm**3/(u.g*u.s**2)) # Constante Gravitacional en cm^3/(g*s^2)\n",
    "Msol = const.M_sun.to(u.g) # Masa solar en gramos\n",
    "R_sol = const.R_sun.to(u.cm)  # Radio del sol en centímetros"
   ]
  },
  {
   "cell_type": "code",
   "execution_count": null,
   "id": "e0c34975",
   "metadata": {},
   "outputs": [],
   "source": [
    "# Read the CSV file with space as the delimiter\n",
    "exoplanet_data = pd.read_csv('exoplanet_data.csv', sep=',', comment='#')\n",
    "exoplanet_data"
   ]
  },
  {
   "cell_type": "markdown",
   "id": "3ca2a4a8",
   "metadata": {},
   "source": [
    "## Calculando zonas de habitabilidad \n",
    "\n",
    "Basándonos en el modelo de  (Kopparapu,2013), el cual considera planetas rocosos que tienen una masa menor a $5M_{\\oplus}$,donde se asumen atmósferas dominadas por $H_2O$ para el límite interno y $CO{-1}_2$ para el límite externo. \n",
    "Este modelo es un modelo unidimensional, en donde se asume la atmósfera como capas, apiladas unas sobre otras. En el modelo planteado por los autores, se ignoran factores como las nubes y se concentran en como el calor se mueve a través de la atmósfera por radiación(proveniente del sol) y la convección, producto del aumento del aire caliente. \n",
    "Para este modelo se tuvieron en cuenta los siguientes casos: 1. Toman un planeta fijo y estudian el efecto de los gases no condensables($N_2$) en los límites de la ZH, variando la presión parcial de $N_2$; 2 Fijar una presión debida al $N_2$ de 0.01 bar para distintas masas de planetas entre el intervalo ya mencionado, con el fin de estudiar el efecto de la gravedad por sí solo, y 3 la presión del $N_2$ se ajusta de acuerdo al tamaño del radio del planeta y verificar el efecto del tamaño del planeta en la abundancia volátil.\n",
    "\n"
   ]
  },
  {
   "cell_type": "markdown",
   "id": "67ef2e2d",
   "metadata": {},
   "source": [
    "# MÉTODO \n",
    "En el artículo mencionado, se tomaron temperaturas efectivas entre $2500 k\\leq T_eff \\leq 7200 k$. Para esta primera parte se tomarán los planetas dentro del rango de masa y se tomarán únicamente aquellos planetas cuya estrella sea de secuencia principal."
   ]
  },
  {
   "cell_type": "code",
   "execution_count": null,
   "id": "20706413",
   "metadata": {},
   "outputs": [],
   "source": [
    "# Obtaining plaets with Mass between 0.4 to 5 and then main sequence stars \n",
    "kopparu = exoplanet_data[\n",
    "    (exoplanet_data['Planet_mass[Earth]'] >= 0.4) & \n",
    "    (exoplanet_data['Planet_mass[Earth]'] <= 5)\n",
    "]\n",
    "\n",
    "kopparu"
   ]
  },
  {
   "cell_type": "code",
   "execution_count": null,
   "id": "e7035cfc",
   "metadata": {},
   "outputs": [],
   "source": [
    "main_stars = []\n",
    "for index, planet in kopparu.iterrows():\n",
    "    spec_type = str(planet['Spectral_type'])\n",
    "    if 'V' in spec_type and 'I' not in spec_type:\n",
    "        main_stars.append(planet)\n",
    "\n",
    "# Convert the list of rows back to a DataFrame\n",
    "main_stars_df = pd.DataFrame(main_stars)\n",
    "main_stars_kopparu = kopparu[kopparu.index.isin(main_stars_df.index)]\n",
    "main_stars_kopparu['Stellar_effective_temperature']"
   ]
  },
  {
   "cell_type": "markdown",
   "id": "932c3d24",
   "metadata": {},
   "source": [
    "Para conocer las distancias de los límites de la zona habitable para cada tipo de estrella, se considera la siguiente ecuación paramétrica\n",
    "$ S_{eff} = S_{eff\\odot } + aT_{*} + bT_{*}^2 + cT_{*}^3 + dT_{*}^4$\n",
    "donde $T_{*} = T_{eff}-5780k.$\n",
    "Para ello, se toman los parámetros del código proporcionado por kopparu entre 0.1M y 5 M % No sé si entonces añadir planetas de 0.1 porque me tardaría muchooooo"
   ]
  },
  {
   "cell_type": "code",
   "execution_count": null,
   "id": "97e10e9f",
   "metadata": {},
   "outputs": [],
   "source": [
    "hzdat = open('HZs.csv', 'w')\n",
    "# Creating a function for the effective flux \n",
    "def Kopparapu_flux (a, b, c, d, t, S_eff_sun):\n",
    "\n",
    "    return S_eff_sun + a*t + b*t**2 + c * t**3 + d * t**4"
   ]
  },
  {
   "cell_type": "code",
   "execution_count": null,
   "id": "cbee006c",
   "metadata": {},
   "outputs": [],
   "source": [
    "\n",
    "# S_eff_sun = [Recent_venus, Runaway_Greenhouse,Maximum_greenhouse, Early_Mars, 0.1M Runaway_Greenhouse, 5M Runwa]\n",
    "S_eff_sun = [1.776,1.107, 0.356, 0.320, 1.188, 0.99]\n",
    "T_eff = np.array(main_stars_kopparu['Stellar_effective_temperature'])\n",
    "S_eff = np.zeros_like(T_eff)\n",
    "T = T_eff - 5780 # Se toma como temperatura del sol 5780k\n",
    "#Calculating coefficients \n",
    "a = [2.136e-4, 1.332e-4, 6.171e-5, 5.547e-5, 1.433e-4, 1.209e-4]\n",
    "b = [2.533e-8, 1.580e-8, 1.698e-9, 1.526e-9, 1.707e-8, 1.404e-8]\n",
    "c = [-1.332e-11, -8.308e-12, -3.198e-12, -2.874e-12, -8.968e-12, -7.418e-12]\n",
    "d = [-3.097e-15, -1.931e-15, -5.575e-16, -5.011e-16, -2.084e-15, -1.713e-15]\n",
    "\n",
    "T"
   ]
  },
  {
   "cell_type": "markdown",
   "id": "68cbd926",
   "metadata": {},
   "source": []
  },
  {
   "cell_type": "code",
   "execution_count": null,
   "id": "f6e56b60",
   "metadata": {},
   "outputs": [],
   "source": [
    "# Definiendo las variables para los límites \n",
    "recentVenus = []\n",
    "runawayGreenhouse = []\n",
    "maxGreenhouse = []\n",
    "earlyMars = []\n",
    "fivemeRunaway = []\n",
    "tenthmeRunaway = []"
   ]
  },
  {
   "cell_type": "code",
   "execution_count": null,
   "id": "62881111",
   "metadata": {},
   "outputs": [],
   "source": [
    "# Calculating the effective flux for each limit \n",
    "for t in T :\n",
    "    for i in range(len(a)):\n",
    "        S_eff[i] = Kopparapu_flux (a[i], b[i], c[i], d[i], t, S_eff_sun[i])\n",
    "        print(S_eff[i])\n",
    "    \n",
    "    recentVenus.append(S_eff[0])\n",
    "    runawayGreenhouse.append(S_eff[1])\n",
    "    maxGreenhouse.append(S_eff[2])\n",
    "    earlyMars.append(S_eff[3])\n",
    "    fivemeRunaway.append(S_eff[4])\n",
    "    tenthmeRunaway.append(S_eff[5])"
   ]
  },
  {
   "cell_type": "code",
   "execution_count": null,
   "id": "2a59dc97",
   "metadata": {},
   "outputs": [],
   "source": [
    "print(np.size(runawayGreenhouse))\n",
    "fivemeRunaway"
   ]
  },
  {
   "cell_type": "code",
   "execution_count": null,
   "id": "8d6bb7f0",
   "metadata": {},
   "outputs": [],
   "source": [
    "#for i in range(len(T_eff)):\n",
    "#    hzdat.write(\n",
    "#        f'   {T_eff.iloc[i]:6.0f}      '\n",
    "#       f'{S_eff[i][0]:6.6E}      '  # First value in the i-th sublist\n",
    "#       f'{S_eff[i][1]:6.6E}     '\n",
    "#       f'{S_eff[i][2]:6.6E}   '\n",
    "#        f'{S_eff[i][3]:6.6E} '\n",
    "#       f'{S_eff[i][4]:6.6E} '\n",
    "#       f'{S_eff[i][5]:6.6E}  \\n'"
   ]
  },
  {
   "cell_type": "code",
   "execution_count": null,
   "id": "62d57bda",
   "metadata": {},
   "outputs": [],
   "source": [
    "# Graficando Temperatura vs  S_eff\n",
    "\n",
    "plt.scatter(recentVenus, T_eff)\n",
    "plt.scatter(runawayGreenhouse, T_eff, color = 'red')\n",
    "plt.scatter(maxGreenhouse, T_eff, color = 'orange')\n",
    "plt.scatter(earlyMars, T_eff, color = 'brown')\n",
    "plt.scatter(fivemeRunaway, T_eff, color = 'green')\n",
    "plt.scatter(tenthmeRunaway,T_eff, color= \"black\")\n",
    "plt.plot ()\n",
    "plt.gca().invert_xaxis()\n",
    "plt.grid(True)\n",
    "plt.xlabel(r'$S_{eff}$')\n",
    "plt.ylabel(r'$T_{eff}(K)')\n",
    "plt.show()"
   ]
  },
  {
   "cell_type": "markdown",
   "id": "5dcd6f16",
   "metadata": {},
   "source": [
    " Ahora bien para calcular las distancias de los límites de la HZ se utilza la siguiente ecuación\n",
    "\n",
    "$d=\\sqrt{\\frac{L/L_{\\odot}}{S_{eff}}} AU$\n",
    "Ahora bien, la luminosidad esta dada por, donde $R_{*}$ es el radio de la estrella y T su temperatura, $R_{\\odot}$ el radio del sol y $T_{\\odot}= 5780$la temperatura del sol. $\\sigma$ es la constante de Boltzmann \n",
    "$L = 4\\pi  R_{*}^{2} \\sigma  T^{4}$   \n",
    "Entonces al remplazar $L$ y $L_{\\odot }$ en la ecuación de $d$. \n",
    "$d =\\sqrt{\\frac{4\\pi R_{*}^{2}\\sigma  T^{4}/ 4\\pi R_{\\odot}^{2}\\sigma T_{\\odot}^{4}}{S_{eff}}} =\\sqrt{\\frac{R_{*}^{2} T^{4}/R_{\\odot }^{2}  T_{\\odot}^{4} }{S_eff}} AU$"
   ]
  },
  {
   "cell_type": "code",
   "execution_count": null,
   "id": "7876c5e9",
   "metadata": {},
   "outputs": [],
   "source": [
    "T_sun = 5780 \n",
    "# Calculating distances \n",
    "def distancia(T_eff,R, S_eff):\n",
    "    d = np.sqrt((R**2*T_eff/ (T_sun**4))/S_eff)\n",
    "    return d #Los radios solares ya estan en radios solares "
   ]
  },
  {
   "cell_type": "code",
   "execution_count": null,
   "id": "1098d155",
   "metadata": {},
   "outputs": [],
   "source": [
    "R = np.array(main_stars_kopparu['Stellar_radius'])\n",
    "d = np.zeros_like(R)\n",
    "d_recentVenus = []\n",
    "d_runawayGreenhouse = []\n",
    "d_maxGreenhouse = []\n",
    "d_earlyMars = []\n",
    "d_fivemeRunaway = []\n",
    "d_tenthmeRunaway =[]\n",
    "for T_star in T_eff:\n",
    "    for j in range(len(a)):\n",
    "        d[j] = distancia(T_star,R[j],S_eff[j])\n",
    "        #print(d[j])\n",
    "    d_recentVenus.append(d[0])\n",
    "    d_runawayGreenhouse.append(d[1])\n",
    "    d_maxGreenhouse.append(d[2])\n",
    "    d_earlyMars.append(d[3])\n",
    "    d_fivemeRunaway.append(d[4])\n",
    "    d_tenthmeRunaway.append(d[5])\n",
    "d_recentVenus"
   ]
  },
  {
   "cell_type": "code",
   "execution_count": null,
   "id": "06ef517c",
   "metadata": {},
   "outputs": [],
   "source": [
    "print(np.size(d))"
   ]
  },
  {
   "cell_type": "code",
   "execution_count": null,
   "id": "4753fdbc",
   "metadata": {},
   "outputs": [],
   "source": [
    "# Graficando Temperatura vs distancias HZ\n",
    "\n",
    "plt.scatter(d_recentVenus, T_eff)\n",
    "plt.scatter(d_runawayGreenhouse, T_eff, color = 'red')\n",
    "plt.scatter(d_maxGreenhouse, T_eff, color = 'orange')\n",
    "plt.scatter(d_earlyMars, T_eff, color = 'brown')\n",
    "plt.scatter(d_fivemeRunaway, T_eff, color = 'green')\n",
    "plt.scatter(d_tenthmeRunaway,T_eff, color= \"black\")\n",
    "plt.plot ()\n",
    "#plt.gca().invert_xaxis()\n",
    "plt.grid(True)\n",
    "plt.xlabel(r'$d (AU$)')\n",
    "plt.ylabel(r'$T_{eff}(K)$')\n",
    "plt.show()"
   ]
  },
  {
   "cell_type": "markdown",
   "id": "0f2155b3",
   "metadata": {},
   "source": [
    "Después de hallar los límites de las zonas habitables, procedemos a ubicar a los planetas que se encuentren dentro de esta zona. Para ello, calcularemos la distancia que hay entre el planeta y su estrella anfitriona.\n",
    "Sabiendo que la eccentricidad se define como :\n",
    "$e=\\frac{c}{a}$\n",
    "donde a representa el semi-eje  mayor y c la distancia que hay entre el objeto y su centro y/o foco(estrella). \n",
    "Sabiendo que \n",
    "* e = 0 -> órbita circular\n",
    "* e $\\epsilon$ [0,1] -> órbita elíptica\n",
    "* e > 1 -> hipérbola\n",
    "Entonces, los planetas cuya órbita tenga eccentricidad $e=0$, entonces $a = c$. Si $ e\\epsilon\\bigr]0;1\\bigr]$, entonces $c = ae$.    "
   ]
  },
  {
   "cell_type": "code",
   "execution_count": null,
   "id": "9f39e0b3",
   "metadata": {},
   "outputs": [],
   "source": [
    "Semi_major = main_stars_kopparu['Orbit_semimajor_axis'].dropna()\n",
    "main_stars_kopparu = kopparu[kopparu.index.isin(main_stars_df.index)]\n",
    "Planets = main_stars_kopparu[main_stars_kopparu.index.isin(Semi_major.index)]\n",
    "e = np.array(Planets['Orbit_eccentricity'])\n",
    "a_m = np.array(Semi_major)\n",
    "print(np.size(e))"
   ]
  },
  {
   "cell_type": "code",
   "execution_count": null,
   "id": "6a1b767f",
   "metadata": {},
   "outputs": [],
   "source": [
    "#Calculating distances \n",
    "c = []\n",
    "for i in range(len(e)):\n",
    "    if e[i] == 0 :\n",
    "        c.append(a_m[i])\n",
    "    elif e[i] > 0 and e[i] <=1:\n",
    "        c.append(a_m[i]*e[i])\n",
    "c "
   ]
  },
  {
   "cell_type": "code",
   "execution_count": null,
   "id": "8540d311",
   "metadata": {},
   "outputs": [],
   "source": []
  }
 ],
 "metadata": {
  "kernelspec": {
   "display_name": "Python 3",
   "language": "python",
   "name": "python3"
  },
  "language_info": {
   "codemirror_mode": {
    "name": "ipython",
    "version": 3
   },
   "file_extension": ".py",
   "mimetype": "text/x-python",
   "name": "python",
   "nbconvert_exporter": "python",
   "pygments_lexer": "ipython3",
   "version": "3.11.10"
  }
 },
 "nbformat": 4,
 "nbformat_minor": 5
}
