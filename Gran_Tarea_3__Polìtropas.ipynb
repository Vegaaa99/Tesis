{
  "nbformat": 4,
  "nbformat_minor": 0,
  "metadata": {
    "colab": {
      "provenance": []
    },
    "kernelspec": {
      "name": "python3",
      "display_name": "Python 3"
    },
    "language_info": {
      "name": "python"
    }
  },
  "cells": [
    {
      "cell_type": "code",
      "source": [],
      "metadata": {
        "id": "OF8zr1qoIvIb"
      },
      "execution_count": null,
      "outputs": []
    },
    {
      "cell_type": "markdown",
      "source": [
        "### Para diversos índices politrópicos, n=1,2,3 y otros valores, ante todo entre 3 y 4.5, resuelva numéricamente la ecuación de Lane-Emden respectiva y grafique las soluciones. Como el caso n=1 tiene solución analítica, use esa expresión. Para cada caso, encuentre y tabule el \"primer cero\" ($\\xi_1$). En la misma tabla escriba los resultados numéricos de aquellas cantidades que nos permiten calcular la masa, presión central, el valor de la constante K, densidad central. Como guía, utilice las figuras 1,2,3 del archivo Configuraciones_Politropicas.pdf así como la tabla de la diapositiva 37. Observe que se introducen los datos del modelo solar de Christensen-Dalsgaard. Si Usted quisiera modelar el Sol con una polítropa, qué índice politrópico emplearía? Justifique su respuesta.\n"
      ],
      "metadata": {
        "id": "irkjuIj-7QCc"
      }
    },
    {
      "cell_type": "markdown",
      "source": [
        "# 1. A partir de la solucione de la ecuaciòn de Lane-Emden\n",
        "$$\\frac{1}{\\xi^2}\\left[\\xi^2\\frac{d\\theta}{d\\xi}\\right]=-\\theta^n $$\n"
      ],
      "metadata": {
        "id": "4eZt_yIQ70-V"
      }
    },
    {
      "cell_type": "code",
      "execution_count": null,
      "metadata": {
        "id": "DfA4ur_OGaq-"
      },
      "outputs": [],
      "source": [
        "import pandas as pd\n",
        "import matplotlib.pyplot as plt\n",
        "import numpy as np\n",
        "from scipy.signal import savgol_filter\n",
        "from scipy.optimize import curve_fit\n",
        "import matplotlib as mpl\n",
        "default_font_size = mpl.rcParams['font.size']\n",
        "mpl.rcParams.update({'font.size': default_font_size * 1})"
      ]
    }
  ]
}